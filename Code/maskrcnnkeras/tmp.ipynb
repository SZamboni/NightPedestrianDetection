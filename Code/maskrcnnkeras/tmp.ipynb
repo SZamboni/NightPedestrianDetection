{
 "cells": [
  {
   "cell_type": "code",
   "execution_count": 7,
   "metadata": {
    "collapsed": false
   },
   "outputs": [
    {
     "name": "stdout",
     "output_type": "stream",
     "text": [
      "loading annotations into memory...\n",
      "Done (t=0.95s)\n",
      "creating index...\n",
      "index created!\n",
      "Train images: 11782\n",
      "loading annotations into memory...\n",
      "Done (t=0.81s)\n",
      "creating index...\n",
      "index created!\n",
      "Validation images: 1055\n"
     ]
    }
   ],
   "source": [
    "# TRAINING\n",
    "from os import listdir\n",
    "from xml.etree import ElementTree\n",
    "from numpy import zeros\n",
    "from numpy import asarray\n",
    "import os\n",
    "from Mask_RCNN.mrcnn.utils import Dataset\n",
    "from Mask_RCNN.mrcnn.utils import extract_bboxes\n",
    "from Mask_RCNN.mrcnn.visualize import display_instances\n",
    "from numpy import expand_dims\n",
    "from numpy import mean\n",
    "from mrcnn.config import Config\n",
    "from mrcnn.model import MaskRCNN\n",
    "from mrcnn.utils import Dataset\n",
    "from mrcnn.utils import compute_ap\n",
    "from mrcnn.model import load_image_gt\n",
    "from mrcnn.model import mold_image\n",
    "from matplotlib import pyplot\n",
    "\n",
    "from Mask_RCNN.mrcnn.config import Config\n",
    "from Mask_RCNN.mrcnn.model import MaskRCNN\n",
    "\n",
    "from our_dataset_onlyped_half import OurDataset\n",
    "\n",
    "\n",
    "def main(ann_file_path,images_path,learning_rate,epochs,val_percentage,model_weights):\n",
    "    # train set\n",
    "    train_set = OurDataset()\n",
    "    train_set.load_dataset(images_path, ann_file_path, is_train=True, val_percentage = val_percentage)\n",
    "    train_set.prepare()\n",
    "    print('Train images: %d' % len(train_set.image_ids))\n",
    "\n",
    "    # val set\n",
    "    val_set = OurDataset()\n",
    "    val_set.load_dataset(images_path, ann_file_path, is_train=False, val_percentage = val_percentage)\n",
    "    val_set.prepare()\n",
    "    print('Validation images: %d' % len(val_set.image_ids))\n",
    "\n",
    "    \n",
    "ann_file_path = '/home/test/data/nightowls/nightowls_training.json'\n",
    "images_path = '/home/test/data/nightowls/nightowls_validation'\n",
    "model_weights = '/home/test/data/mask_rcnn_coco.h5'\n",
    "learning_rate = 1e-3\n",
    "epochs = 1\n",
    "val_percentage = 0.05\n",
    "\n",
    "main(ann_file_path,images_path,learning_rate,epochs, val_percentage,model_weights)"
   ]
  },
  {
   "cell_type": "code",
   "execution_count": null,
   "metadata": {
    "collapsed": true
   },
   "outputs": [],
   "source": []
  }
 ],
 "metadata": {
  "kernelspec": {
   "display_name": "tensorflow_gpuenv",
   "language": "python",
   "name": "tensorflow_gpuenv"
  },
  "language_info": {
   "codemirror_mode": {
    "name": "ipython",
    "version": 3
   },
   "file_extension": ".py",
   "mimetype": "text/x-python",
   "name": "python",
   "nbconvert_exporter": "python",
   "pygments_lexer": "ipython3",
   "version": "3.7.4"
  }
 },
 "nbformat": 4,
 "nbformat_minor": 0
}
